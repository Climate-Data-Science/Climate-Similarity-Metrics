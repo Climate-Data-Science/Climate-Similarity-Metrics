{
 "cells": [
  {
   "cell_type": "markdown",
   "metadata": {},
   "source": [
    "Presenting the different similarity measures implemented in the similarity_measures.py file"
   ]
  },
  {
   "cell_type": "code",
   "execution_count": 1,
   "metadata": {},
   "outputs": [],
   "source": [
    "import similarity_measures as sim\n",
    "import numpy as np"
   ]
  },
  {
   "cell_type": "code",
   "execution_count": 2,
   "metadata": {},
   "outputs": [],
   "source": [
    "series1 = np.array([1, 0, 1, 1, 1, 0, 4, -1, -2, 0, 1, -8, 9, 4, 2])\n",
    "series2 = np.array([0, 0, 2, -4, 1, 1, 2, -4, -5, 1, 2, -5, 4, 2, 1])\n",
    "\n",
    "series1_normalized = sim.normalize(series1)\n",
    "series2_normalized = sim.normalize(series2)"
   ]
  },
  {
   "cell_type": "markdown",
   "metadata": {},
   "source": [
    "<h2>Pearson's Correlation</h2>"
   ]
  },
  {
   "cell_type": "code",
   "execution_count": 3,
   "metadata": {},
   "outputs": [
    {
     "name": "stdout",
     "output_type": "stream",
     "text": [
      "\n",
      "    Compute the Pearson correlation coefficient between two series\n",
      "\n",
      "    Quantifies the degree of linear relationship between time series.\n",
      "\n",
      "    Args:\n",
      "        series1 (numpy.ndarray): First series\n",
      "        series2 (numpy.ndarray): Second series\n",
      "\n",
      "    Returns:\n",
      "        Pearson correlation coefficient between the two series\n",
      "    \n"
     ]
    }
   ],
   "source": [
    "print(sim.pearson_correlation.__doc__)"
   ]
  },
  {
   "cell_type": "code",
   "execution_count": 4,
   "metadata": {},
   "outputs": [
    {
     "data": {
      "text/plain": [
       "0.7612272716777063"
      ]
     },
     "execution_count": 4,
     "metadata": {},
     "output_type": "execute_result"
    }
   ],
   "source": [
    "sim.pearson_correlation(series1, series2)"
   ]
  },
  {
   "cell_type": "markdown",
   "metadata": {},
   "source": [
    "<h2>Manhattan Distance</h2>"
   ]
  },
  {
   "cell_type": "code",
   "execution_count": 5,
   "metadata": {},
   "outputs": [
    {
     "name": "stdout",
     "output_type": "stream",
     "text": [
      "\n",
      "    Compute the City Block (Manhattan) distance between two series\n",
      "\n",
      "    Quantifies the absolute magnitude of the difference between time series.\n",
      "\n",
      "    Args:\n",
      "        series1 (numpy.ndarray): First series\n",
      "        series2 (numpy.ndarray): Second series\n",
      "\n",
      "    Returns:\n",
      "        City Block (Manhattan) distance coefficient between the two series\n",
      "    \n"
     ]
    }
   ],
   "source": [
    "print(sim.manhattan_distance.__doc__)"
   ]
  },
  {
   "cell_type": "code",
   "execution_count": 6,
   "metadata": {},
   "outputs": [
    {
     "data": {
      "text/plain": [
       "2.2165663629115637"
      ]
     },
     "execution_count": 6,
     "metadata": {},
     "output_type": "execute_result"
    }
   ],
   "source": [
    "sim.manhattan_distance(series1_normalized, series2_normalized)"
   ]
  },
  {
   "cell_type": "markdown",
   "metadata": {},
   "source": [
    "<h2>Euclidean Distance</h2>"
   ]
  },
  {
   "cell_type": "code",
   "execution_count": 7,
   "metadata": {},
   "outputs": [
    {
     "name": "stdout",
     "output_type": "stream",
     "text": [
      "\n",
      "    Compute the Euclidean distance between two series\n",
      "\n",
      "    Quantifies the Euclidean distance of the difference between time series.\n",
      "\n",
      "    Args:\n",
      "        series1 (numpy.ndarray): First series\n",
      "        series2 (numpy.ndarray): Second series\n",
      "\n",
      "    Returns:\n",
      "        Euclidean distance between the two series\n",
      "    \n"
     ]
    }
   ],
   "source": [
    "print(sim.euclidean_distance.__doc__)"
   ]
  },
  {
   "cell_type": "code",
   "execution_count": 8,
   "metadata": {},
   "outputs": [
    {
     "data": {
      "text/plain": [
       "0.7401975233558657"
      ]
     },
     "execution_count": 8,
     "metadata": {},
     "output_type": "execute_result"
    }
   ],
   "source": [
    "sim.euclidean_distance(series1_normalized, series2_normalized)"
   ]
  },
  {
   "cell_type": "markdown",
   "metadata": {},
   "source": [
    "<h2>Cosine Similarity</h2>"
   ]
  },
  {
   "cell_type": "code",
   "execution_count": 9,
   "metadata": {},
   "outputs": [
    {
     "name": "stdout",
     "output_type": "stream",
     "text": [
      "\n",
      "    Compute the Cosine distance between two series\n",
      "\n",
      "    Args:\n",
      "        series1 (numpy.ndarray): First series\n",
      "        series2 (numpy.ndarray): Second series\n",
      "\n",
      "    Returns:\n",
      "        Cosine distance between the two series\n",
      "    \n"
     ]
    }
   ],
   "source": [
    "print(sim.cosine_similarity.__doc__)"
   ]
  },
  {
   "cell_type": "code",
   "execution_count": 10,
   "metadata": {},
   "outputs": [
    {
     "data": {
      "text/plain": [
       "0.7260538132089214"
      ]
     },
     "execution_count": 10,
     "metadata": {},
     "output_type": "execute_result"
    }
   ],
   "source": [
    "sim.cosine_similarity(series1, series2)"
   ]
  },
  {
   "cell_type": "markdown",
   "metadata": {},
   "source": [
    "<h2>Mutual Information</h2>"
   ]
  },
  {
   "cell_type": "code",
   "execution_count": 11,
   "metadata": {},
   "outputs": [
    {
     "name": "stdout",
     "output_type": "stream",
     "text": [
      "\n",
      "    Compute the Mutual Information between two series\n",
      "\n",
      "    Measure of the amount of mutual dependence between two random variables.\n",
      "\n",
      "    Args:\n",
      "        series1 (numpy.ndarray): First series\n",
      "        series2 (numpy.ndarray): Second series\n",
      "\n",
      "    Returns:\n",
      "        Mutual Information between the two series\n",
      "    \n"
     ]
    }
   ],
   "source": [
    "print(sim.mutual_information.__doc__)"
   ]
  },
  {
   "cell_type": "code",
   "execution_count": 12,
   "metadata": {},
   "outputs": [
    {
     "data": {
      "text/plain": [
       "1.6159220638351663"
      ]
     },
     "execution_count": 12,
     "metadata": {},
     "output_type": "execute_result"
    }
   ],
   "source": [
    "sim.mutual_information(series1, series2)"
   ]
  },
  {
   "cell_type": "markdown",
   "metadata": {},
   "source": [
    "<h2>Transfer Entropy</h2>"
   ]
  },
  {
   "cell_type": "code",
   "execution_count": 13,
   "metadata": {},
   "outputs": [
    {
     "name": "stdout",
     "output_type": "stream",
     "text": [
      "\n",
      "    Compute the Transfer Entropy between two series\n",
      "\n",
      "    Quantify information transfer between an information\n",
      "    source and destination, conditioning out shared history effects.\n",
      "\n",
      "    Args:\n",
      "        series1 (numpy.ndarray): First series\n",
      "        series2 (numpy.ndarray): Second series\n",
      "\n",
      "    Returns:\n",
      "        Transfer Entropy between the two series\n",
      "    \n"
     ]
    }
   ],
   "source": [
    "print(sim.transfer_entropy.__doc__)"
   ]
  },
  {
   "cell_type": "code",
   "execution_count": 14,
   "metadata": {},
   "outputs": [
    {
     "data": {
      "text/plain": [
       "0.3076923076923077"
      ]
     },
     "execution_count": 14,
     "metadata": {},
     "output_type": "execute_result"
    }
   ],
   "source": [
    "sim.transfer_entropy(series1, series2)"
   ]
  },
  {
   "cell_type": "markdown",
   "metadata": {},
   "source": [
    "<h2>Conditional Entropy</h2>"
   ]
  },
  {
   "cell_type": "code",
   "execution_count": 15,
   "metadata": {},
   "outputs": [
    {
     "name": "stdout",
     "output_type": "stream",
     "text": [
      "\n",
      "    Compute the Relative Entropy between two series\n",
      "\n",
      "    Measure of the amount of information required to describe a\n",
      "    random variable series1 given knowledge of another random variable series2\n",
      "\n",
      "    Args:\n",
      "        series1 (numpy.ndarray): First series\n",
      "        series2 (numpy.ndarray): Second series\n",
      "\n",
      "    Returns:\n",
      "        Relative Entropy between the two series\n",
      "    \n"
     ]
    }
   ],
   "source": [
    "print(sim.conditional_entropy.__doc__)"
   ]
  },
  {
   "cell_type": "code",
   "execution_count": 16,
   "metadata": {},
   "outputs": [
    {
     "data": {
      "text/plain": [
       "0.8243018651066856"
      ]
     },
     "execution_count": 16,
     "metadata": {},
     "output_type": "execute_result"
    }
   ],
   "source": [
    "sim.conditional_entropy(series1, series2)"
   ]
  },
  {
   "cell_type": "markdown",
   "metadata": {},
   "source": [
    "<h2>Dynamic Time Warping Distance</h2>"
   ]
  },
  {
   "cell_type": "code",
   "execution_count": 17,
   "metadata": {},
   "outputs": [
    {
     "name": "stdout",
     "output_type": "stream",
     "text": [
      "\n",
      "    Compute the Dynamic Time Warping distance between two series\n",
      "\n",
      "    Dynamic time warping is an algorithm used to measure similarity between\n",
      "    two sequences which may vary in time or speed.\n",
      "    It works as follows:\n",
      "        1. Divide the two series into equal points.\n",
      "        2. Calculate the euclidean distance between the first point in the\n",
      "            first series and every point in the second series. Store the minimum\n",
      "            distance calculated. (this is the ‘time warp’ stage)\n",
      "        3. Move to the second point and repeat 2. Move step by step along points\n",
      "            and repeat 2 till all points are exhausted.\n",
      "        4. Repeat 2 and 3 but with the second series as a reference point.\n",
      "        5. Add up all the minimum distances that were stored and this is a\n",
      "            true measure of similarity between the two series.\n",
      "\n",
      "    Args:\n",
      "        series1 (numpy.ndarray): First series\n",
      "        series2 (numpy.ndarray): Second series\n",
      "\n",
      "    Returns:\n",
      "        Dynamic time warping distance between the two series\n",
      "    \n"
     ]
    }
   ],
   "source": [
    "print(sim.dynamic_time_warping_distance.__doc__)"
   ]
  },
  {
   "cell_type": "code",
   "execution_count": 18,
   "metadata": {},
   "outputs": [
    {
     "data": {
      "text/plain": [
       "2.2165663629115637"
      ]
     },
     "execution_count": 18,
     "metadata": {},
     "output_type": "execute_result"
    }
   ],
   "source": [
    "sim.dynamic_time_warping_distance(series1_normalized, series2_normalized)"
   ]
  },
  {
   "cell_type": "markdown",
   "metadata": {},
   "source": [
    "<h2>Principal Component Distance</h2>"
   ]
  },
  {
   "cell_type": "code",
   "execution_count": 19,
   "metadata": {},
   "outputs": [
    {
     "name": "stdout",
     "output_type": "stream",
     "text": [
      "\n",
      "    Compute the distance of the first k principal components between two series\n",
      "\n",
      "    Computes the difference between time series mapped into the first k PCs that\n",
      "    explain the majority of the variance.\n",
      "\n",
      "    Args:\n",
      "        series1 (numpy.ndarray): First series\n",
      "        series2 (numpy.ndarray): Second series\n",
      "        k (int): Number of Principal Components\n",
      "            Defaults to 2\n",
      "\n",
      "    Returns:\n",
      "        Distance of values mapped into the first k principal components\n",
      "    \n"
     ]
    }
   ],
   "source": [
    "print(sim.principal_component_distance.__doc__)"
   ]
  },
  {
   "cell_type": "code",
   "execution_count": 20,
   "metadata": {},
   "outputs": [
    {
     "data": {
      "text/plain": [
       "0.6807759689722824"
      ]
     },
     "execution_count": 20,
     "metadata": {},
     "output_type": "execute_result"
    }
   ],
   "source": [
    "sim.principal_component_distance(series1_normalized, series2_normalized)"
   ]
  },
  {
   "cell_type": "markdown",
   "metadata": {},
   "source": [
    "<h2>Spearman's Correlation</h2>"
   ]
  },
  {
   "cell_type": "code",
   "execution_count": 21,
   "metadata": {},
   "outputs": [
    {
     "name": "stdout",
     "output_type": "stream",
     "text": [
      "\n",
      "    Compute the Spearman correlation coefficient between two series\n",
      "\n",
      "    Benchmarks monotonic relationships between time series.\n",
      "\n",
      "    Args:\n",
      "        series1 (numpy.ndarray): First series\n",
      "        series2 (numpy.ndarray): Second series\n",
      "\n",
      "    Returns:\n",
      "        Spearman correlation coefficient between the two series\n",
      "    \n"
     ]
    }
   ],
   "source": [
    "print(sim.spearman_correlation.__doc__)"
   ]
  },
  {
   "cell_type": "code",
   "execution_count": 22,
   "metadata": {},
   "outputs": [
    {
     "data": {
      "text/plain": [
       "0.8003745272736548"
      ]
     },
     "execution_count": 22,
     "metadata": {},
     "output_type": "execute_result"
    }
   ],
   "source": [
    "sim.spearman_correlation(series1, series2)"
   ]
  },
  {
   "cell_type": "markdown",
   "metadata": {},
   "source": [
    "<h2>Kenadll's Tau</h2>"
   ]
  },
  {
   "cell_type": "code",
   "execution_count": 23,
   "metadata": {},
   "outputs": [
    {
     "name": "stdout",
     "output_type": "stream",
     "text": [
      "\n",
      "    Compute the Kendall Tau coefficient between two series\n",
      "\n",
      "    Non-parametric measure of relationship between time series.\n",
      "\n",
      "    Args:\n",
      "        series1 (numpy.ndarray): First series\n",
      "        series2 (numpy.ndarray): Second series\n",
      "\n",
      "    Returns:\n",
      "        Kendall Tau correlation coefficient between the two series\n",
      "    \n"
     ]
    }
   ],
   "source": [
    "print(sim.kendall_tau.__doc__)"
   ]
  },
  {
   "cell_type": "code",
   "execution_count": 24,
   "metadata": {},
   "outputs": [
    {
     "data": {
      "text/plain": [
       "0.7182430061427789"
      ]
     },
     "execution_count": 24,
     "metadata": {},
     "output_type": "execute_result"
    }
   ],
   "source": [
    "sim.kendall_tau(series1, series2)"
   ]
  },
  {
   "cell_type": "code",
   "execution_count": null,
   "metadata": {},
   "outputs": [],
   "source": []
  }
 ],
 "metadata": {
  "kernelspec": {
   "display_name": "Python 3",
   "language": "python",
   "name": "python3"
  },
  "language_info": {
   "codemirror_mode": {
    "name": "ipython",
    "version": 3
   },
   "file_extension": ".py",
   "mimetype": "text/x-python",
   "name": "python",
   "nbconvert_exporter": "python",
   "pygments_lexer": "ipython3",
   "version": "3.6.10"
  }
 },
 "nbformat": 4,
 "nbformat_minor": 4
}
