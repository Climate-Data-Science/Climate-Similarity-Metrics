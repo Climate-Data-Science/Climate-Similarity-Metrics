{
 "cells": [
  {
   "cell_type": "markdown",
   "metadata": {},
   "source": [
    "Plot the dependency between two similarity metrics"
   ]
  },
  {
   "cell_type": "markdown",
   "metadata": {},
   "source": [
    "<h2>Import packages and data</h2>"
   ]
  },
  {
   "cell_type": "code",
   "execution_count": 1,
   "metadata": {},
   "outputs": [],
   "source": [
    "from scipy.io import netcdf\n",
    "import similarity_measures as sim\n",
    "import calculations as calc\n",
    "import plots\n",
    "import numpy as np"
   ]
  },
  {
   "cell_type": "code",
   "execution_count": 2,
   "metadata": {},
   "outputs": [],
   "source": [
    "nc_l30 = netcdf.netcdf_file(\"data/era-int_pl_1979-2019-mm-l30-u.nc\")"
   ]
  },
  {
   "cell_type": "markdown",
   "metadata": {},
   "source": [
    "<h2>Derive QBO</h2>"
   ]
  },
  {
   "cell_type": "code",
   "execution_count": 3,
   "metadata": {},
   "outputs": [],
   "source": [
    "lon = calc.convert_coordinates_to_grid(nc_l30.variables[\"longitude\"][:], 180)\n",
    "lat = calc.convert_coordinates_to_grid(nc_l30.variables[\"latitude\"][:], 0)\n",
    "\n",
    "lon_step = 256 #Around the whole equator\n",
    "lat_step = calc.convert_coordinates_to_grid(nc_l30.variables[\"latitude\"][:], 0) - calc.convert_coordinates_to_grid(nc_l30.variables[\"latitude\"][:], 5)\n",
    "\n",
    "\n",
    "u_l30 = nc_l30.variables[\"u\"]\n",
    "\n",
    "#Deseasonalize\n",
    "u_l30 = calc.deseasonalize_map(u_l30)\n",
    "\n",
    "qbo_equator = calc.derive(u_l30[:, :, :, :], lat, lon, 0, lat_step, lon_step)"
   ]
  },
  {
   "cell_type": "markdown",
   "metadata": {},
   "source": [
    "<h2>Calculate and plot dependency between two similarity metrics</h2>\n",
    "Here: Pearson's Correlation vs Mutual Information"
   ]
  },
  {
   "cell_type": "code",
   "execution_count": 4,
   "metadata": {},
   "outputs": [
    {
     "name": "stdout",
     "output_type": "stream",
     "text": [
      "\n",
      "    Calculate and plot dependency between two similarity metrics\n",
      "\n",
      "    Args:\n",
      "        map_array (numpy.ndarray): Map with 4 dimensions - time, level, latitude, longitude\n",
      "        reference_series (numpy.ndarray): 1 dimensional reference series\n",
      "        metric1 (function): First similarity metric to compute similarity between two time series\n",
      "        metric2 (function): Second similarity metric to compute similarity between two time series\n",
      "        level (int, optional): Level on which the similarity should be calculated\n",
      "            Defaults to 0\n",
      "    \n"
     ]
    }
   ],
   "source": [
    "print(plots.plot_similarity_dependency.__doc__)"
   ]
  },
  {
   "cell_type": "code",
   "execution_count": 5,
   "metadata": {},
   "outputs": [
    {
     "data": {
      "image/png": "[encoded data removed]",
      "text/plain": [
       "<Figure size 432x288 with 1 Axes>"
      ]
     },
     "metadata": {
      "needs_background": "light"
     },
     "output_type": "display_data"
    }
   ],
   "source": [
    "plots.plot_similarity_dependency(u_l30, qbo_equator, sim.correlation_similarity, sim.mutual_information)"
   ]
  }
 ],
 "metadata": {
  "kernelspec": {
   "display_name": "Python 3",
   "language": "python",
   "name": "python3"
  },
  "language_info": {
   "codemirror_mode": {
    "name": "ipython",
    "version": 3
   },
   "file_extension": ".py",
   "mimetype": "text/x-python",
   "name": "python",
   "nbconvert_exporter": "python",
   "pygments_lexer": "ipython3",
   "version": "3.6.10"
  }
 },
 "nbformat": 4,
 "nbformat_minor": 4
}
