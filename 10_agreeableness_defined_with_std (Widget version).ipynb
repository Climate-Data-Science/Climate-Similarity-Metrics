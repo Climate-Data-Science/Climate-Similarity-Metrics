{
 "cells": [
  {
   "cell_type": "markdown",
   "metadata": {},
   "source": [
    "<h2>Import packages and data</h2>"
   ]
  },
  {
   "cell_type": "code",
   "execution_count": 1,
   "metadata": {},
   "outputs": [],
   "source": [
    "from scipy.io import netcdf\n",
    "from scipy.stats import entropy\n",
    "import similarity_measures as sim\n",
    "import calculations as calc\n",
    "import comparing as comp\n",
    "import combining as comb\n",
    "import plots\n",
    "import numpy as np\n",
    "import matplotlib as plt"
   ]
  },
  {
   "cell_type": "code",
   "execution_count": 10,
   "metadata": {},
   "outputs": [],
   "source": [
    "import ipywidgets as widgets\n",
    "from ipywidgets import interact, fixed"
   ]
  },
  {
   "cell_type": "code",
   "execution_count": 4,
   "metadata": {},
   "outputs": [],
   "source": [
    "plt.rcParams.update({'font.size': 25})"
   ]
  },
  {
   "cell_type": "code",
   "execution_count": 2,
   "metadata": {},
   "outputs": [],
   "source": [
    "nc_l30 = netcdf.netcdf_file(\"data/era-int_pl_1979-2019-mm-l30-u.nc\")"
   ]
  },
  {
   "cell_type": "markdown",
   "metadata": {},
   "source": [
    "<h2>Derive QBO</h2>"
   ]
  },
  {
   "cell_type": "code",
   "execution_count": 3,
   "metadata": {},
   "outputs": [],
   "source": [
    "lon = calc.convert_coordinates_to_grid(nc_l30.variables[\"longitude\"][:], 180)\n",
    "lat = calc.convert_coordinates_to_grid(nc_l30.variables[\"latitude\"][:], 0)\n",
    "\n",
    "lon_step = 256 #Around the whole equator\n",
    "lat_step = calc.convert_coordinates_to_grid(nc_l30.variables[\"latitude\"][:], 0) - calc.convert_coordinates_to_grid(nc_l30.variables[\"latitude\"][:], 5)\n",
    "\n",
    "\n",
    "u_l30 = nc_l30.variables[\"u\"]\n",
    "\n",
    "#Deseasonalize\n",
    "u_l30 = calc.deseasonalize_map(u_l30)\n",
    "\n",
    "qbo_equator = calc.derive(u_l30[:, :, :, :], lat, lon, 0, lat_step, lon_step)"
   ]
  },
  {
   "cell_type": "markdown",
   "metadata": {},
   "source": [
    "<h1>Widget version</h1>"
   ]
  },
  {
   "cell_type": "markdown",
   "metadata": {},
   "source": [
    "<h3>Preparation</h3>"
   ]
  },
  {
   "cell_type": "markdown",
   "metadata": {},
   "source": [
    "Define similarity measures to use"
   ]
  },
  {
   "cell_type": "code",
   "execution_count": 5,
   "metadata": {},
   "outputs": [],
   "source": [
    "measures = [sim.pearson_correlation_abs, sim.mutual_information, comp.invert(sim.manhattan_distance)]"
   ]
  },
  {
   "cell_type": "code",
   "execution_count": 6,
   "metadata": {},
   "outputs": [],
   "source": [
    "measure_labels = [\"Absolute Pearson's Correlation\", \"Mutual Information\", \"Manhattan Distance (Inverted)\"]"
   ]
  },
  {
   "cell_type": "markdown",
   "metadata": {},
   "source": [
    "Compute the similarities and the summary maps"
   ]
  },
  {
   "cell_type": "code",
   "execution_count": 7,
   "metadata": {},
   "outputs": [],
   "source": [
    "#Calculation\n",
    "similarities = []\n",
    "mean_map = np.zeros(u_l30[0, 0, :, :].shape)\n",
    "agreement = np.zeros_like(mean_map)\n",
    "\n",
    "for measure in measures:\n",
    "    similarity = calc.calculate_series_similarity(u_l30, qbo_equator, 0, measure)\n",
    "    if (measure != sim.pearson_correlation or measure !=sim.pearson_correlation_abs):\n",
    "        similarity = comp.binning_values_to_quantiles(similarity)\n",
    "    similarities.append(similarity)\n",
    "\n",
    "agreement = np.std(similarities, axis=0)\n",
    "mean_map = np.mean(similarities, axis=0)"
   ]
  },
  {
   "cell_type": "markdown",
   "metadata": {},
   "source": [
    "Define a function that plots the remaining points, based on the selected thresholds"
   ]
  },
  {
   "cell_type": "code",
   "execution_count": 8,
   "metadata": {},
   "outputs": [],
   "source": [
    "def plot_agreement(mean_map, agreement_map, value_threshold, agreement_threshold, values_high, agree_high):\n",
    "    map = np.ones_like(mean_map)\n",
    "\n",
    "    agreement_filtered = calc.filter_map(agreement, agreement_threshold, high=agree_high)\n",
    "    mean_map_filtered = calc.filter_map(mean_map, value_threshold, high=values_high)\n",
    "\n",
    "    map = map * agreement_filtered * mean_map_filtered\n",
    "    \n",
    "    fig, axis = plt.pyplot.subplots(1, 1, figsize=(30, 20))\n",
    "    fig.suptitle(\"Areas where {} agree there is a dependency\".format(measure_labels))\n",
    "    \n",
    "    plots.plot_map(map, axis, colorbar=False)"
   ]
  },
  {
   "cell_type": "markdown",
   "metadata": {},
   "source": [
    "<h3>Create an interactive widget to set the parameters</h3>"
   ]
  },
  {
   "cell_type": "code",
   "execution_count": 11,
   "metadata": {},
   "outputs": [
    {
     "data": {
      "application/vnd.jupyter.widget-view+json": {
       "model_id": "4c2c791025254aeebd40b7e766cf126c",
       "version_major": 2,
       "version_minor": 0
      },
      "text/plain": [
       "interactive(children=(FloatSlider(value=0.8, description='Value Threshold:', max=1.0, step=0.05), FloatSlider(…"
      ]
     },
     "metadata": {},
     "output_type": "display_data"
    },
    {
     "data": {
      "text/plain": [
       "<function __main__.plot_agreement(mean_map, agreement_map, value_threshold, agreement_threshold, values_high, agree_high)>"
      ]
     },
     "execution_count": 11,
     "metadata": {},
     "output_type": "execute_result"
    }
   ],
   "source": [
    "value_slider = widgets.FloatSlider(value=0.8, min=0, max=1, step=0.05, description='Value Threshold:')\n",
    "agreement_slider = widgets.FloatSlider(value=0.2, min=0, max=1, step=0.01, description='Agreement Threshold:')\n",
    "fil_val_high = widgets.RadioButtons(\n",
    "    options=[('High dependencies', True), ('Low dependencies', False)],\n",
    "    value=True,\n",
    "    description='Values:',\n",
    ")\n",
    "fil_agree_high = widgets.RadioButtons(\n",
    "    options=[('Agree', False), ('Disagree', True)],\n",
    "    value=False,\n",
    "    description='Agreement',\n",
    ")\n",
    "widgets.interact(plot_agreement, value_threshold=value_slider, agreement_threshold=agreement_slider, values_high=fil_val_high, agree_high=fil_agree_high, mean_map=fixed(mean_map), agreement_map=fixed(agreement)) "
   ]
  },
  {
   "cell_type": "code",
   "execution_count": null,
   "metadata": {},
   "outputs": [],
   "source": []
  }
 ],
 "metadata": {
  "kernelspec": {
   "display_name": "Python 3",
   "language": "python",
   "name": "python3"
  },
  "language_info": {
   "codemirror_mode": {
    "name": "ipython",
    "version": 3
   },
   "file_extension": ".py",
   "mimetype": "text/x-python",
   "name": "python",
   "nbconvert_exporter": "python",
   "pygments_lexer": "ipython3",
   "version": "3.6.10"
  }
 },
 "nbformat": 4,
 "nbformat_minor": 4
}
