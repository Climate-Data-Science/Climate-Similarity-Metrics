{
 "cells": [
  {
   "cell_type": "code",
   "execution_count": 1,
   "metadata": {},
   "outputs": [],
   "source": [
    "from scipy.io import netcdf\n",
    "from matplotlib import pyplot as plt\n",
    "import numpy as np\n",
    "from mpl_toolkits.basemap import Basemap\n",
    "\n",
    "import calculations as calc"
   ]
  },
  {
   "cell_type": "code",
   "execution_count": 2,
   "metadata": {},
   "outputs": [
    {
     "name": "stdout",
     "output_type": "stream",
     "text": [
      "\n",
      "    Calculate point-wise similarity of all points on a map to a reference point over time\n",
      "\n",
      "    Args:\n",
      "        map_array (numpy.ndarray): Map with 4 dimensions - time, level, longitude, latitude\n",
      "        lon (int): Longitude of reference point\n",
      "        lat (int): Latitude of reference point\n",
      "        level (int, optional): Level on which the similarity should be calculated\n",
      "            Defaults to 0\n",
      "        sim_func (str, optional): The similarity function that should be used.\n",
      "            Defaults to Correlation Coefficient.\n",
      "            Options: \"correlation\": Pearson's Correlation,\n",
      "                     \"manhattan\": Mahattan Distance,\n",
      "                     \"mahalanobis\": Mahalanobis Distance,\n",
      "                     \"euclidean\": Euclidean Distance,\n",
      "                     \"cosine\": Cosine Distance,\n",
      "                     \"mutual_information\": Mutual Information,\n",
      "                     \"transfer_entropy\": Transfer Entropy,\n",
      "                     \"relative_entropy\": Relative Entropy\n",
      "\n",
      "    Returns:\n",
      "        2 dimensional numpy.ndarray with similarity values to reference point\n",
      "    \n"
     ]
    }
   ],
   "source": [
    "print(calc.calculate_pointwise_similarity.__doc__)"
   ]
  },
  {
   "cell_type": "code",
   "execution_count": 3,
   "metadata": {},
   "outputs": [],
   "source": [
    "nc = netcdf.netcdf_file(\"data/era-int_pl_1981-mm-u.nc\")"
   ]
  },
  {
   "cell_type": "code",
   "execution_count": 4,
   "metadata": {},
   "outputs": [
    {
     "data": {
      "text/plain": [
       "(177, 504)"
      ]
     },
     "execution_count": 4,
     "metadata": {},
     "output_type": "execute_result"
    }
   ],
   "source": [
    "#Choose a random point on the map\n",
    "(lon, lat) = (np.random.randint(256), np.random.randint(512))\n",
    "(lon, lat)"
   ]
  },
  {
   "cell_type": "code",
   "execution_count": 5,
   "metadata": {},
   "outputs": [],
   "source": [
    "#Define Level\n",
    "level = 15"
   ]
  },
  {
   "cell_type": "code",
   "execution_count": 6,
   "metadata": {},
   "outputs": [
    {
     "data": {
      "text/plain": [
       "(12, 37, 256, 512)"
      ]
     },
     "execution_count": 6,
     "metadata": {},
     "output_type": "execute_result"
    }
   ],
   "source": [
    "#Convert map in Array\n",
    "map_array = np.array(nc.variables[\"u\"][:, :, :, :])\n",
    "map_array.shape"
   ]
  },
  {
   "cell_type": "code",
   "execution_count": null,
   "metadata": {},
   "outputs": [],
   "source": [
    "#Calculate point-wise similarities to (lon, lat) (Here: Correlation Coefficient)\n",
    "sim = calc.calculate_pointwise_similarity(map_array, lon, lat, level, sim_func=\"correlation\")     \n",
    "            \n",
    "sim        "
   ]
  },
  {
   "cell_type": "code",
   "execution_count": null,
   "metadata": {},
   "outputs": [],
   "source": [
    "#2nd possibility: Convert point values into series and calculate series similarity\n",
    "reference_series = np.array([map_array[time, level, lon, lat] for time in range(map_array.shape[0])])\n",
    "sim = calc.calculate_series_similarity(map_array, reference_series, level, sim_func=\"correlation\")\n",
    "\n",
    "sim"
   ]
  },
  {
   "cell_type": "code",
   "execution_count": null,
   "metadata": {},
   "outputs": [],
   "source": [
    "#Plot similarity on map\n",
    "fig=plt.figure(figsize = (12,8))\n",
    "m = Basemap(projection='mill',lon_0=30,resolution='l')\n",
    "m.drawcoastlines()\n",
    "\n",
    "lons, lats = m.makegrid(512, 256)\n",
    "x, y = m(lons, lats)\n",
    "\n",
    "cs = m.contourf(x, y, sim[:, :]) # variate 2nd dimension for different altitudes, -1 is ground level\n",
    "cbar = m.colorbar(cs,location='bottom',pad=\"5%\")\n",
    "plt.title(\"Correlation to point ({}, {}) in 1981\".format(lon, lat))\n",
    "plt.show()"
   ]
  },
  {
   "cell_type": "code",
   "execution_count": null,
   "metadata": {},
   "outputs": [],
   "source": []
  }
 ],
 "metadata": {
  "kernelspec": {
   "display_name": "Python 3",
   "language": "python",
   "name": "python3"
  },
  "language_info": {
   "codemirror_mode": {
    "name": "ipython",
    "version": 3
   },
   "file_extension": ".py",
   "mimetype": "text/x-python",
   "name": "python",
   "nbconvert_exporter": "python",
   "pygments_lexer": "ipython3",
   "version": "3.7.6"
  }
 },
 "nbformat": 4,
 "nbformat_minor": 4
}
