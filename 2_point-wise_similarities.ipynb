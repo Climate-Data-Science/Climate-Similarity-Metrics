{
 "cells": [
  {
   "cell_type": "code",
   "execution_count": 1,
   "metadata": {},
   "outputs": [],
   "source": [
    "from scipy.io import netcdf\n",
    "from matplotlib import pyplot as plt\n",
    "import numpy as np\n",
    "from mpl_toolkits.basemap import Basemap\n",
    "\n",
    "import calculations as calc\n",
    "import similarity_measures"
   ]
  },
  {
   "cell_type": "code",
   "execution_count": 2,
   "metadata": {},
   "outputs": [
    {
     "name": "stdout",
     "output_type": "stream",
     "text": [
      "\n",
      "    Calculate point-wise similarity of all points on a map to a reference point over time\n",
      "\n",
      "    Args:\n",
      "        map_array (numpy.ndarray): Map with 4 dimensions - time, level, longitude, latitude\n",
      "        lon (int): Longitude of reference point\n",
      "        lat (int): Latitude of reference point\n",
      "        level (int, optional): Level on which the similarity should be calculated\n",
      "            Defaults to 0\n",
      "        sim_func (str, optional): The similarity function that should be used.\n",
      "            Defaults to Pearson's Correlation Coefficient.\n",
      "\n",
      "    Returns:\n",
      "        2 dimensional numpy.ndarray with similarity values to reference point\n",
      "    \n"
     ]
    }
   ],
   "source": [
    "print(calc.calculate_pointwise_similarity.__doc__)"
   ]
  },
  {
   "cell_type": "code",
   "execution_count": 3,
   "metadata": {},
   "outputs": [],
   "source": [
    "nc = netcdf.netcdf_file(\"data/era-int_pl_1981-mm-u.nc\")"
   ]
  },
  {
   "cell_type": "code",
   "execution_count": 4,
   "metadata": {},
   "outputs": [
    {
     "data": {
      "text/plain": [
       "(77, 74)"
      ]
     },
     "execution_count": 4,
     "metadata": {},
     "output_type": "execute_result"
    }
   ],
   "source": [
    "#Choose a random point on the map\n",
    "(lon, lat) = (np.random.randint(256), np.random.randint(512))\n",
    "(lon, lat)"
   ]
  },
  {
   "cell_type": "code",
   "execution_count": 5,
   "metadata": {},
   "outputs": [],
   "source": [
    "#Define Level\n",
    "level = 15"
   ]
  },
  {
   "cell_type": "code",
   "execution_count": 6,
   "metadata": {},
   "outputs": [
    {
     "data": {
      "text/plain": [
       "(12, 37, 256, 512)"
      ]
     },
     "execution_count": 6,
     "metadata": {},
     "output_type": "execute_result"
    }
   ],
   "source": [
    "#Convert map in Array\n",
    "map_array = np.array(nc.variables[\"u\"][:, :, :, :])\n",
    "map_array.shape"
   ]
  },
  {
   "cell_type": "code",
   "execution_count": 7,
   "metadata": {},
   "outputs": [
    {
     "ename": "TypeError",
     "evalue": "'str' object is not callable",
     "output_type": "error",
     "traceback": [
      "\u001b[1;31m---------------------------------------------------------------------------\u001b[0m",
      "\u001b[1;31mTypeError\u001b[0m                                 Traceback (most recent call last)",
      "\u001b[1;32m<ipython-input-7-cecb99d5fc66>\u001b[0m in \u001b[0;36m<module>\u001b[1;34m\u001b[0m\n\u001b[0;32m      1\u001b[0m \u001b[1;31m#Calculate point-wise similarities to (lon, lat) (Here: Correlation Coefficient)\u001b[0m\u001b[1;33m\u001b[0m\u001b[1;33m\u001b[0m\u001b[1;33m\u001b[0m\u001b[0m\n\u001b[1;32m----> 2\u001b[1;33m \u001b[0msim\u001b[0m \u001b[1;33m=\u001b[0m \u001b[0mcalc\u001b[0m\u001b[1;33m.\u001b[0m\u001b[0mcalculate_pointwise_similarity\u001b[0m\u001b[1;33m(\u001b[0m\u001b[0mmap_array\u001b[0m\u001b[1;33m,\u001b[0m \u001b[0mlon\u001b[0m\u001b[1;33m,\u001b[0m \u001b[0mlat\u001b[0m\u001b[1;33m,\u001b[0m \u001b[0mlevel\u001b[0m\u001b[1;33m,\u001b[0m \u001b[0msim_func\u001b[0m\u001b[1;33m=\u001b[0m\u001b[1;34m\"correlation\"\u001b[0m\u001b[1;33m)\u001b[0m\u001b[1;33m\u001b[0m\u001b[1;33m\u001b[0m\u001b[0m\n\u001b[0m\u001b[0;32m      3\u001b[0m \u001b[1;33m\u001b[0m\u001b[0m\n\u001b[0;32m      4\u001b[0m \u001b[0msim\u001b[0m\u001b[1;33m\u001b[0m\u001b[1;33m\u001b[0m\u001b[0m\n",
      "\u001b[1;32m~\\Climate-Similarity-Metrics\\calculations.py\u001b[0m in \u001b[0;36mcalculate_pointwise_similarity\u001b[1;34m(map_array, lon, lat, level, sim_func)\u001b[0m\n\u001b[0;32m     26\u001b[0m     \u001b[0mlen_time\u001b[0m \u001b[1;33m=\u001b[0m \u001b[0mmap_array\u001b[0m\u001b[1;33m.\u001b[0m\u001b[0mshape\u001b[0m\u001b[1;33m[\u001b[0m\u001b[1;36m0\u001b[0m\u001b[1;33m]\u001b[0m\u001b[1;33m\u001b[0m\u001b[1;33m\u001b[0m\u001b[0m\n\u001b[0;32m     27\u001b[0m     \u001b[0mreference_series\u001b[0m \u001b[1;33m=\u001b[0m \u001b[0mnp\u001b[0m\u001b[1;33m.\u001b[0m\u001b[0marray\u001b[0m\u001b[1;33m(\u001b[0m\u001b[1;33m[\u001b[0m\u001b[0mmap_array\u001b[0m\u001b[1;33m[\u001b[0m\u001b[0mtime\u001b[0m\u001b[1;33m,\u001b[0m \u001b[0mlevel\u001b[0m\u001b[1;33m,\u001b[0m \u001b[0mlon\u001b[0m\u001b[1;33m,\u001b[0m \u001b[0mlat\u001b[0m\u001b[1;33m]\u001b[0m \u001b[1;32mfor\u001b[0m \u001b[0mtime\u001b[0m \u001b[1;32min\u001b[0m \u001b[0mrange\u001b[0m\u001b[1;33m(\u001b[0m\u001b[0mlen_time\u001b[0m\u001b[1;33m)\u001b[0m\u001b[1;33m]\u001b[0m\u001b[1;33m)\u001b[0m\u001b[1;33m\u001b[0m\u001b[1;33m\u001b[0m\u001b[0m\n\u001b[1;32m---> 28\u001b[1;33m     \u001b[1;32mreturn\u001b[0m \u001b[0mcalculate_series_similarity\u001b[0m\u001b[1;33m(\u001b[0m\u001b[0mmap_array\u001b[0m\u001b[1;33m,\u001b[0m \u001b[0mreference_series\u001b[0m\u001b[1;33m,\u001b[0m \u001b[0mlevel\u001b[0m\u001b[1;33m,\u001b[0m \u001b[0msim_func\u001b[0m\u001b[1;33m)\u001b[0m\u001b[1;33m\u001b[0m\u001b[1;33m\u001b[0m\u001b[0m\n\u001b[0m\u001b[0;32m     29\u001b[0m \u001b[1;33m\u001b[0m\u001b[0m\n\u001b[0;32m     30\u001b[0m def calculate_series_similarity(map_array, reference_series, level=0,\n",
      "\u001b[1;32m~\\Climate-Similarity-Metrics\\calculations.py\u001b[0m in \u001b[0;36mcalculate_series_similarity\u001b[1;34m(map_array, reference_series, level, sim_func)\u001b[0m\n\u001b[0;32m     51\u001b[0m         \u001b[1;32mfor\u001b[0m \u001b[0mlat_i\u001b[0m \u001b[1;32min\u001b[0m \u001b[0mrange\u001b[0m\u001b[1;33m(\u001b[0m\u001b[0mlen_latitude\u001b[0m\u001b[1;33m)\u001b[0m\u001b[1;33m:\u001b[0m\u001b[1;33m\u001b[0m\u001b[1;33m\u001b[0m\u001b[0m\n\u001b[0;32m     52\u001b[0m             \u001b[0mpoint_series\u001b[0m \u001b[1;33m=\u001b[0m \u001b[0mnp\u001b[0m\u001b[1;33m.\u001b[0m\u001b[0marray\u001b[0m\u001b[1;33m(\u001b[0m\u001b[1;33m[\u001b[0m\u001b[0mmap_array\u001b[0m\u001b[1;33m[\u001b[0m\u001b[0mtime\u001b[0m\u001b[1;33m,\u001b[0m \u001b[0mlon_i\u001b[0m\u001b[1;33m,\u001b[0m \u001b[0mlat_i\u001b[0m\u001b[1;33m]\u001b[0m \u001b[1;32mfor\u001b[0m \u001b[0mtime\u001b[0m \u001b[1;32min\u001b[0m \u001b[0mrange\u001b[0m\u001b[1;33m(\u001b[0m\u001b[0mlen_time\u001b[0m\u001b[1;33m)\u001b[0m\u001b[1;33m]\u001b[0m\u001b[1;33m)\u001b[0m\u001b[1;33m\u001b[0m\u001b[1;33m\u001b[0m\u001b[0m\n\u001b[1;32m---> 53\u001b[1;33m             \u001b[0msim\u001b[0m\u001b[1;33m[\u001b[0m\u001b[0mlon_i\u001b[0m\u001b[1;33m,\u001b[0m \u001b[0mlat_i\u001b[0m\u001b[1;33m]\u001b[0m \u001b[1;33m=\u001b[0m \u001b[0msim_func\u001b[0m\u001b[1;33m(\u001b[0m\u001b[0mreference_series\u001b[0m\u001b[1;33m,\u001b[0m \u001b[0mpoint_series\u001b[0m\u001b[1;33m)\u001b[0m\u001b[1;33m\u001b[0m\u001b[1;33m\u001b[0m\u001b[0m\n\u001b[0m\u001b[0;32m     54\u001b[0m \u001b[1;33m\u001b[0m\u001b[0m\n\u001b[0;32m     55\u001b[0m     \u001b[1;32mreturn\u001b[0m \u001b[0msim\u001b[0m\u001b[1;33m\u001b[0m\u001b[1;33m\u001b[0m\u001b[0m\n",
      "\u001b[1;31mTypeError\u001b[0m: 'str' object is not callable"
     ]
    }
   ],
   "source": [
    "#Calculate point-wise similarities to (lon, lat) (Here: Correlation Coefficient)\n",
    "sim = calc.calculate_pointwise_similarity(map_array, lon, lat, level, sim_func=\"correlation\")     \n",
    "            \n",
    "sim        "
   ]
  },
  {
   "cell_type": "code",
   "execution_count": null,
   "metadata": {},
   "outputs": [],
   "source": [
    "#2nd possibility: Convert point values into series and calculate series similarity\n",
    "reference_series = np.array([map_array[time, level, lon, lat] for time in range(map_array.shape[0])])\n",
    "sim = calc.calculate_series_similarity(map_array, reference_series, level, sim_func=\"correlation\")\n",
    "\n",
    "sim"
   ]
  },
  {
   "cell_type": "code",
   "execution_count": null,
   "metadata": {},
   "outputs": [],
   "source": [
    "#Plot similarity on map\n",
    "fig=plt.figure(figsize = (12,8))\n",
    "m = Basemap(projection='mill',lon_0=30,resolution='l')\n",
    "m.drawcoastlines()\n",
    "\n",
    "lons, lats = m.makegrid(512, 256)\n",
    "x, y = m(lons, lats)\n",
    "\n",
    "cs = m.contourf(x, y, sim[:, :]) # variate 2nd dimension for different altitudes, -1 is ground level\n",
    "cbar = m.colorbar(cs,location='bottom',pad=\"5%\")\n",
    "plt.title(\"Correlation to point ({}, {}) in 1981\".format(lon, lat))\n",
    "plt.show()"
   ]
  },
  {
   "cell_type": "code",
   "execution_count": null,
   "metadata": {},
   "outputs": [],
   "source": []
  }
 ],
 "metadata": {
  "kernelspec": {
   "display_name": "Python 3",
   "language": "python",
   "name": "python3"
  },
  "language_info": {
   "codemirror_mode": {
    "name": "ipython",
    "version": 3
   },
   "file_extension": ".py",
   "mimetype": "text/x-python",
   "name": "python",
   "nbconvert_exporter": "python",
   "pygments_lexer": "ipython3",
   "version": "3.6.10"
  }
 },
 "nbformat": 4,
 "nbformat_minor": 4
}
