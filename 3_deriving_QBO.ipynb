{
 "cells": [
  {
   "cell_type": "code",
   "execution_count": 8,
   "metadata": {},
   "outputs": [],
   "source": [
    "from scipy.io import netcdf\n",
    "from matplotlib import pyplot as plt\n",
    "from calculations import derive_QBO"
   ]
  },
  {
   "cell_type": "code",
   "execution_count": 9,
   "metadata": {},
   "outputs": [
    {
     "name": "stderr",
     "output_type": "stream",
     "text": [
      "C:\\Users\\tousp\\anaconda3\\lib\\site-packages\\scipy\\io\\netcdf.py:317: RuntimeWarning: Cannot close a netcdf_file opened with mmap=True, when netcdf_variables or arrays referring to its data still exist. All data arrays obtained from such files refer directly to data on disk, and must be copied before the file can be cleanly closed. (See netcdf_file docstring for more information on mmap.)\n",
      "  ), category=RuntimeWarning)\n"
     ]
    }
   ],
   "source": [
    "nc = netcdf.netcdf_file(\"data/era-int_pl_1981-mm-u.nc\")\n",
    "sing = netcdf.netcdf_file(\"data/qbo_index_Singapore_70-10hPa_1976-2017.nc\")"
   ]
  },
  {
   "cell_type": "code",
   "execution_count": 10,
   "metadata": {},
   "outputs": [],
   "source": [
    "u = nc.variables[\"u\"]\n",
    "\n",
    "my_qbo = derive_QBO(u[:,:,:,:], level=8)"
   ]
  },
  {
   "cell_type": "code",
   "execution_count": 11,
   "metadata": {},
   "outputs": [
    {
     "data": {
      "text/plain": [
       "[12.615161,\n",
       " 12.963535,\n",
       " 13.345683,\n",
       " 16.570534,\n",
       " 16.88556,\n",
       " 11.303894,\n",
       " 3.752824,\n",
       " 1.0991133,\n",
       " -1.1184354,\n",
       " -0.276046,\n",
       " -0.6848322,\n",
       " -3.748569]"
      ]
     },
     "execution_count": 11,
     "metadata": {},
     "output_type": "execute_result"
    }
   ],
   "source": [
    "my_qbo"
   ]
  },
  {
   "cell_type": "code",
   "execution_count": 12,
   "metadata": {},
   "outputs": [],
   "source": [
    "ref_qbo = sing.variables[\"QBO\"]"
   ]
  },
  {
   "cell_type": "code",
   "execution_count": 13,
   "metadata": {},
   "outputs": [
    {
     "data": {
      "text/plain": [
       "array([ 4.4756393 ,  5.0797434 ,  5.2472897 ,  5.640649  ,  6.355084  ,\n",
       "        6.6129613 ,  6.4871306 ,  6.4287133 ,  6.013084  ,  5.011028  ,\n",
       "        4.508134  ,  2.8408515 ,  1.7467445 ,  0.60525584, -0.96531165,\n",
       "       -3.592451  , -6.022928  , -6.113302  , -6.6618366 , -6.427661  ,\n",
       "       -6.8004026 , -7.3946767 , -6.8637247 , -4.263977  , -2.3716161 ,\n",
       "       -1.3345692 , -0.39111137,  0.30478823,  1.6991316 ,  2.6379511 ,\n",
       "        2.7192996 ,  2.6086512 ,  3.121656  ,  3.741617  ,  3.3470893 ,\n",
       "        3.1930585 ,  3.225119  ,  3.5156088 ,  3.9079823 ,  4.14421   ,\n",
       "        4.8360047 ], dtype=float32)"
      ]
     },
     "execution_count": 13,
     "metadata": {},
     "output_type": "execute_result"
    }
   ],
   "source": [
    "ref_qbo[60:71, 0]"
   ]
  },
  {
   "cell_type": "code",
   "execution_count": 15,
   "metadata": {},
   "outputs": [
    {
     "data": {
      "text/plain": [
       "<matplotlib.legend.Legend at 0x25dad4cf988>"
      ]
     },
     "execution_count": 15,
     "metadata": {},
     "output_type": "execute_result"
    },
    {
     "data": {
      "image/png": "[encoded data removed]",
      "text/plain": [
       "<Figure size 432x288 with 1 Axes>"
      ]
     },
     "metadata": {
      "needs_background": "light"
     },
     "output_type": "display_data"
    }
   ],
   "source": [
    "plt.plot(my_qbo, label=\"my_qbo\")\n",
    "plt.plot(ref_qbo[60:72, 0], label=\"ref_qbo\")\n",
    "plt.legend()"
   ]
  },
  {
   "cell_type": "code",
   "execution_count": null,
   "metadata": {},
   "outputs": [],
   "source": []
  }
 ],
 "metadata": {
  "kernelspec": {
   "display_name": "Python 3",
   "language": "python",
   "name": "python3"
  },
  "language_info": {
   "codemirror_mode": {
    "name": "ipython",
    "version": 3
   },
   "file_extension": ".py",
   "mimetype": "text/x-python",
   "name": "python",
   "nbconvert_exporter": "python",
   "pygments_lexer": "ipython3",
   "version": "3.7.6"
  }
 },
 "nbformat": 4,
 "nbformat_minor": 4
}
